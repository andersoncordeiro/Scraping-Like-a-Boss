{
 "cells": [
  {
   "cell_type": "markdown",
   "id": "polish-snake",
   "metadata": {},
   "source": [
    "# Iniciando com Beautiful Soup"
   ]
  },
  {
   "cell_type": "code",
   "execution_count": 1,
   "id": "involved-charger",
   "metadata": {},
   "outputs": [],
   "source": [
    "html_doc = '''\n",
    "<!DOCTYPE html>\n",
    "<html lang=\"pt-br\">\n",
    "    <head>\n",
    "        <meta charset=\"utf-8\">\n",
    "        <title>Minha primeira pag HTML</title>\n",
    "    </head>\n",
    "    <body>\n",
    "        <h1>Título do meu site!</h1>\n",
    "        <h2>Um subtitulo</h2>\n",
    "        <h3>Um subtitulo</h3>\n",
    "\n",
    "        <p>Olá!</p>\n",
    "        <p>Bem vindo, Anderson!</p>\n",
    "\n",
    "        <a href=\"https://www.google.com\" target=\"_blank\">Google</a>\n",
    "    </body>\n",
    "</html>\n",
    "'''"
   ]
  },
  {
   "cell_type": "code",
   "execution_count": 2,
   "id": "average-holiday",
   "metadata": {},
   "outputs": [
    {
     "data": {
      "text/plain": [
       "'\\n<!DOCTYPE html>\\n<html lang=\"pt-br\">\\n    <head>\\n        <meta charset=\"utf-8\">\\n        <title>Minha primeira pag HTML</title>\\n    </head>\\n    <body>\\n        <h1>Título do meu site!</h1>\\n        <h2>Um subtitulo</h2>\\n        <h3>Um subtitulo</h3>\\n\\n        <p>Olá!</p>\\n        <p>Bem vindo, Anderson!</p>\\n\\n        <a href=\"https://www.google.com\" target=\"_blank\">Google</a>\\n    </body>\\n\\n</html>\\n'"
      ]
     },
     "execution_count": 2,
     "metadata": {},
     "output_type": "execute_result"
    }
   ],
   "source": [
    "html_doc"
   ]
  },
  {
   "cell_type": "code",
   "execution_count": null,
   "id": "recognized-craps",
   "metadata": {},
   "outputs": [],
   "source": []
  }
 ],
 "metadata": {
  "kernelspec": {
   "display_name": "Python 3",
   "language": "python",
   "name": "python3"
  },
  "language_info": {
   "codemirror_mode": {
    "name": "ipython",
    "version": 3
   },
   "file_extension": ".py",
   "mimetype": "text/x-python",
   "name": "python",
   "nbconvert_exporter": "python",
   "pygments_lexer": "ipython3",
   "version": "3.6.9"
  }
 },
 "nbformat": 4,
 "nbformat_minor": 5
}
